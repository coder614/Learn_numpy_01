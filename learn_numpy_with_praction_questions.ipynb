{
 "cells": [
  {
   "cell_type": "code",
   "execution_count": null,
   "id": "f65e43e8",
   "metadata": {
    "vscode": {
     "languageId": "plaintext"
    }
   },
   "outputs": [],
   "source": [
    "import numpy as np\n",
    "import random"
   ]
  },
  {
   "cell_type": "code",
   "execution_count": null,
   "id": "b260ca79",
   "metadata": {
    "vscode": {
     "languageId": "plaintext"
    }
   },
   "outputs": [],
   "source": [
    "# This is 1 Qustion sol. code (Q1: Create a 3X3 array filled with random numbers and print its shape.)\n",
    "num = random.randint(1, 10)\n",
    "print(f\"This is the random number: {num}\")\n",
    "arr = np.full((3, 3), num)\n",
    "print(f\"This is the 3X3 random number 3D array:\\n{arr}\")"
   ]
  },
  {
   "cell_type": "code",
   "execution_count": null,
   "id": "f0d5c4c7",
   "metadata": {
    "vscode": {
     "languageId": "plaintext"
    }
   },
   "outputs": [],
   "source": [
    "# This is 2 Qustion sol. code (Q2: Convert an array of floats[1.1, 2.2, 3.3] into integers.)\n",
    "arr = np.array([1.1, 2.2, 3.3])\n",
    "convert_arr = arr.astype(int)\n",
    "print(f\"This is the convert array float{arr} to integers{convert_arr}\")"
   ]
  },
  {
   "cell_type": "code",
   "execution_count": null,
   "id": "a1552e55",
   "metadata": {
    "vscode": {
     "languageId": "plaintext"
    }
   },
   "outputs": [],
   "source": [
    "# This is 3 Qustion sol. code (Q3: Use fancy indexing to extract even numbers from this array[1,2,3,4,5,6,7,8,9,10].)\n",
    "arr = np.array([1,2,3,4,5,6,7,8,9,10])\n",
    "find_even_num = arr[arr%2==0]\n",
    "print(f\"Even numbers{find_even_num} into this array{arr}\")"
   ]
  },
  {
   "cell_type": "code",
   "execution_count": null,
   "id": "3bb1d180",
   "metadata": {
    "vscode": {
     "languageId": "plaintext"
    }
   },
   "outputs": [],
   "source": [
    "# This is 4 Qustion sol. code (Q4: Reshape a 1D array of size 9 into a 3X3 matrix.)\n",
    "arr_size = 9\n",
    "arr = np.array(list(range(arr_size)))\n",
    "matrix = arr.reshape(3,3)\n",
    "print(f\"Convert 1D array{arr} to 3D arry\\n{matrix}\")"
   ]
  },
  {
   "cell_type": "code",
   "execution_count": null,
   "id": "326a1305",
   "metadata": {
    "vscode": {
     "languageId": "plaintext"
    }
   },
   "outputs": [],
   "source": [
    "# This is 5 Qustion sol. code (Q5: Use boolean masking to filter number greater than 50 in an array.)\n",
    "arr = np.array([1,4,5,32,54,24,56,23,45,34,745,36,37,25,74,235,2,34,6,3,35,85,94,74,96])\n",
    "Find_greaterthan_50 = arr[arr > 50]\n",
    "print(f\"{Find_greaterthan_50} this values are Greater than 50 by filter ont on this array {arr}\")"
   ]
  }
 ],
 "metadata": {
  "language_info": {
   "name": "python"
  }
 },
 "nbformat": 4,
 "nbformat_minor": 5
}
